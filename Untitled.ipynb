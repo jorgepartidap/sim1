{
 "cells": [
  {
   "cell_type": "code",
   "execution_count": 1,
   "metadata": {
    "collapsed": false
   },
   "outputs": [
    {
     "name": "stdout",
     "output_type": "stream",
     "text": [
      "Hola Mundo\n"
     ]
    }
   ],
   "source": [
    "print (\"Hola Mundo\")"
   ]
  },
  {
   "cell_type": "code",
   "execution_count": 14,
   "metadata": {
    "collapsed": false
   },
   "outputs": [
    {
     "name": "stdout",
     "output_type": "stream",
     "text": [
      "Hola Mundo\n"
     ]
    }
   ],
   "source": [
    "saludo = (\"Hola Mundo\")\n",
    "print (saludo)"
   ]
  },
  {
   "cell_type": "code",
   "execution_count": 13,
   "metadata": {
    "collapsed": false
   },
   "outputs": [
    {
     "name": "stdout",
     "output_type": "stream",
     "text": [
      "Hola /t Munt/do\n"
     ]
    }
   ],
   "source": [
    "cadena = \"Hola /t Munt/do\"\n",
    "print (cadena)"
   ]
  },
  {
   "cell_type": "code",
   "execution_count": 1,
   "metadata": {
    "collapsed": false
   },
   "outputs": [
    {
     "name": "stdout",
     "output_type": "stream",
     "text": [
      "1\n",
      "2\n",
      "3\n",
      "4\n",
      "5\n",
      "6\n",
      "7\n",
      "8\n",
      "9\n",
      "10\n",
      "11\n",
      "12\n",
      "13\n",
      "14\n",
      "15\n",
      "16\n",
      "17\n",
      "18\n",
      "19\n",
      "20\n",
      "terminado\n"
     ]
    }
   ],
   "source": [
    "i = 1\n",
    "while i<=20:\n",
    "    print (i) \n",
    "    i += 1\n",
    "print (\"terminado\")\n"
   ]
  },
  {
   "cell_type": "code",
   "execution_count": 2,
   "metadata": {
    "collapsed": false
   },
   "outputs": [
    {
     "name": "stdout",
     "output_type": "stream",
     "text": [
      "1\n",
      "terminado\n",
      "2\n",
      "terminado\n",
      "3\n",
      "terminado\n",
      "4\n",
      "terminado\n",
      "5\n",
      "terminado\n",
      "6\n",
      "terminado\n",
      "7\n",
      "terminado\n",
      "8\n",
      "terminado\n",
      "9\n",
      "terminado\n",
      "10\n",
      "terminado\n",
      "11\n",
      "terminado\n",
      "12\n",
      "terminado\n",
      "13\n",
      "terminado\n",
      "14\n",
      "terminado\n",
      "15\n",
      "terminado\n",
      "16\n",
      "terminado\n",
      "17\n",
      "terminado\n",
      "18\n",
      "terminado\n",
      "19\n",
      "terminado\n",
      "20\n",
      "terminado\n"
     ]
    }
   ],
   "source": [
    "i = 1\n",
    "while i<=20:\n",
    "    print (i) \n",
    "    i += 1\n",
    "    print (\"terminado\")"
   ]
  },
  {
   "cell_type": "code",
   "execution_count": 3,
   "metadata": {
    "collapsed": false
   },
   "outputs": [
    {
     "name": "stdout",
     "output_type": "stream",
     "text": [
      "introduce n1\n",
      "introduce m3\n",
      "6\n"
     ]
    }
   ],
   "source": [
    "n= int(input(\"introduce n\"))\n",
    "m= int(input(\"introduce m\"))\n",
    "tmp= 0\n",
    "i= n\n",
    "while i<= m:\n",
    "    tmp=tmp+i\n",
    "    i+=1\n",
    "print (tmp)"
   ]
  },
  {
   "cell_type": "code",
   "execution_count": 5,
   "metadata": {
    "collapsed": false
   },
   "outputs": [],
   "source": [
    "!start ."
   ]
  },
  {
   "cell_type": "code",
   "execution_count": null,
   "metadata": {
    "collapsed": true
   },
   "outputs": [],
   "source": []
  },
  {
   "cell_type": "code",
   "execution_count": null,
   "metadata": {
    "collapsed": true
   },
   "outputs": [],
   "source": []
  }
 ],
 "metadata": {
  "anaconda-cloud": {},
  "kernelspec": {
   "display_name": "Python [default]",
   "language": "python",
   "name": "python2"
  },
  "language_info": {
   "codemirror_mode": {
    "name": "ipython",
    "version": 2
   },
   "file_extension": ".py",
   "mimetype": "text/x-python",
   "name": "python",
   "nbconvert_exporter": "python",
   "pygments_lexer": "ipython2",
   "version": "2.7.12"
  }
 },
 "nbformat": 4,
 "nbformat_minor": 1
}
